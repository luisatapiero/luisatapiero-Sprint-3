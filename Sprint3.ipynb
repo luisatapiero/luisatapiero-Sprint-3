{
 "cells": [
  {
   "cell_type": "markdown",
   "id": "70ff1278",
   "metadata": {},
   "source": [
    "## Sprint 3 - KNN vecinos 🏘️"
   ]
  },
  {
   "cell_type": "code",
   "execution_count": 1,
   "id": "b7705fcf",
   "metadata": {},
   "outputs": [
    {
     "data": {
      "application/vnd.jupyter.widget-view+json": {
       "model_id": "4367c44e6b4d471ca87c8a4da418681f",
       "version_major": 2,
       "version_minor": 0
      },
      "text/plain": [
       "VBox(children=(Dropdown(description='Selecciona el usuario P:', layout=Layout(width='250px'), options=('Tatian…"
      ]
     },
     "metadata": {},
     "output_type": "display_data"
    },
    {
     "data": {
      "application/vnd.jupyter.widget-view+json": {
       "model_id": "cd22cb263ee74995bfaea9260c402386",
       "version_major": 2,
       "version_minor": 0
      },
      "text/plain": [
       "Output()"
      ]
     },
     "metadata": {},
     "output_type": "display_data"
    }
   ],
   "source": [
    "from sklearn.neighbors import NearestNeighbors\n",
    "import matplotlib.pyplot as plt\n",
    "import numpy as np\n",
    "import pandas as pd\n",
    "import ipywidgets as widgets\n",
    "\n",
    "data = pd.read_csv(\"db_sprint3.csv\", index_col='Nombre')\n",
    "\n",
    "data_norm = (data - data.min()) / (data.max() - data.min())\n",
    "\n",
    "dropdown = widgets.Dropdown(\n",
    "    options=[i for i in data.index],\n",
    "    value=None,\n",
    "    description=\"Selecciona el usuario P:\",\n",
    "    style={\"description_width\": \"initial\"},\n",
    "    layout=widgets.Layout(width=\"250px\")\n",
    ")\n",
    "\n",
    "btn = widgets.Button(description='Ver vecinos', button_style=\"primary\")\n",
    "output = widgets.Output()\n",
    "\n",
    "def btn_eventhandler(obj):\n",
    "    with output:\n",
    "        output.clear_output()\n",
    "\n",
    "        p = data_norm.loc[dropdown.value]\n",
    "        k = int(np.sqrt(len(data)))\n",
    "\n",
    "        ingredients = data_norm.columns\n",
    "\n",
    "        model = NearestNeighbors(n_neighbors=k, metric='cosine')\n",
    "        model.fit(data_norm[ingredients])\n",
    "\n",
    "        distances, indices = model.kneighbors([p])\n",
    "\n",
    "        print('Vecindario de usuarios:')\n",
    "        print(data.iloc[indices[0]])\n",
    "\n",
    "        print('Distancia:')\n",
    "        print(distances[0])\n",
    "        \n",
    "        neighbor_names = data.iloc[indices[0]].index.tolist()\n",
    "\n",
    "        plt.scatter(neighbor_names, distances[0], s=50, alpha=0.5)\n",
    "        plt.xticks(rotation=90)\n",
    "        plt.xlabel('Nombre del usuario')\n",
    "        plt.ylabel('Distancia')\n",
    "        plt.title(f'Usuario {p.name} y sus vecinos más cercanos')\n",
    "        for i, name in enumerate(neighbor_names):\n",
    "            plt.text(name, distances[0][i], f'{distances[0][i]:.2f}', ha='center', va='bottom')\n",
    "        \n",
    "        plt.show()\n",
    "\n",
    "        df = data_norm.iloc[indices[0]].T\n",
    "        df.columns = ['Usuario P'] + [f'Vecino {i+1}' for i in range(k-1)]\n",
    "\n",
    "        ax = df.plot(kind='bar', figsize=(10, 5))\n",
    "        ax.set_xticklabels(df.index, rotation=45)\n",
    "\n",
    "        plt.title('Usuario P y sus vecinos más cercanos')\n",
    "        plt.xlabel('Sabor')\n",
    "        plt.ylabel('Calificación')\n",
    "        plt.show()\n",
    "\n",
    "btn.on_click(btn_eventhandler)\n",
    "\n",
    "box = widgets.VBox([dropdown, btn])\n",
    "output = widgets.Output()\n",
    "\n",
    "display(box, output)\n"
   ]
  }
 ],
 "metadata": {
  "kernelspec": {
   "display_name": "Python 3 (ipykernel)",
   "language": "python",
   "name": "python3"
  },
  "language_info": {
   "codemirror_mode": {
    "name": "ipython",
    "version": 3
   },
   "file_extension": ".py",
   "mimetype": "text/x-python",
   "name": "python",
   "nbconvert_exporter": "python",
   "pygments_lexer": "ipython3",
   "version": "3.9.13"
  }
 },
 "nbformat": 4,
 "nbformat_minor": 5
}
